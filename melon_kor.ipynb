{
 "cells": [
  {
   "cell_type": "code",
   "execution_count": 1,
   "id": "655123e1",
   "metadata": {},
   "outputs": [],
   "source": [
    "from selenium import webdriver\n",
    "import time\n",
    "from bs4 import BeautifulSoup as bs\n",
    "import pandas as pd"
   ]
  },
  {
   "cell_type": "code",
   "execution_count": 4,
   "id": "294ade7a",
   "metadata": {},
   "outputs": [],
   "source": [
    "# 크롬드라이버 열기 / 406에러 방지(지연)을 위한 헤더 추가\n",
    "path = \"chromedriver.exe\"\n",
    "options = webdriver.ChromeOptions()\n",
    "options.add_argument('user-agent=Mozilla/5.0 (Windows NT 10.0; Win64; x64) AppleWebKit/537.36 (KHTML, like Gecko) Chrome/110.0.0.0 Safari/537.36')\n",
    "driver = webdriver.Chrome(executable_path=path,options=options)\n",
    "driver.maximize_window()\n",
    "\n",
    "# 리스트에 저장\n",
    "melon_korean = []\n",
    "\n",
    "# 드라이버가 해당 url 접속\n",
    "for i in range(0, 10000, 50):\n",
    "    driver.get(f'https://www.melon.com/new/index.htm#params%5BareaFlg%5D=I&po=pageObj&startIndex={i+1}')\n",
    "    time.sleep(5)\n",
    "    html = driver.page_source\n",
    "\n",
    "    soup = bs(html, 'html.parser')\n",
    "    \n",
    "    #앨범코버, 제목, 가수 크롤해서 저장 \n",
    "    covers = soup.find_all(\"a\", {\"class\": \"image_typeAll\"})\n",
    "    titles = soup.find_all(\"div\", {\"class\": \"ellipsis rank01\"})\n",
    "    artists = soup.find_all(\"span\", {\"class\": \"checkEllipsis\"})\n",
    "\n",
    "    for item in zip(covers, titles, artists):\n",
    "        melon_korean.append(\n",
    "            {\n",
    "                'cover': item[0].find('img')[\"src\"],\n",
    "                'title': item[1].find('a').text,\n",
    "                'artist': item[2].text,\n",
    "            }\n",
    "        )\n",
    "\n",
    "#형태 변환\n",
    "data = pd.DataFrame(melon_korean)\n",
    "\n",
    "#크롬 종료\n",
    "driver.quit()\n",
    "\n",
    "#같은 데이터들 중복제거\n",
    "tmp = data.drop_duplicates(['cover', 'title', 'artist'])\n",
    "\n",
    "#csv파일로 저장\n",
    "tmp.to_csv('melon_korean.csv', encoding='utf-8')"
   ]
  }
 ],
 "metadata": {
  "kernelspec": {
   "display_name": "Python 3 (ipykernel)",
   "language": "python",
   "name": "python3"
  },
  "language_info": {
   "codemirror_mode": {
    "name": "ipython",
    "version": 3
   },
   "file_extension": ".py",
   "mimetype": "text/x-python",
   "name": "python",
   "nbconvert_exporter": "python",
   "pygments_lexer": "ipython3",
   "version": "3.9.13"
  }
 },
 "nbformat": 4,
 "nbformat_minor": 5
}
